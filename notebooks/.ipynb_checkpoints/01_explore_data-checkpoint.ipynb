{
 "cells": [
  {
   "cell_type": "code",
   "execution_count": 1,
   "id": "d73b1090",
   "metadata": {},
   "outputs": [
    {
     "name": "stdout",
     "output_type": "stream",
     "text": [
      "🔍 Testing MIMIC-IV BigQuery connection...\n",
      "✅ Query executed: 1 rows returned\n",
      "✅ Connection successful! Found 364,627 patients\n",
      "✅ Ready to explore MIMIC-IV data!\n"
     ]
    }
   ],
   "source": [
    "# Cell 1: Setup and Test Connection\n",
    "import sys\n",
    "sys.path.append('../src')\n",
    "from mimic_client import MIMICClient, test_connection\n",
    "\n",
    "print(\"🔍 Testing MIMIC-IV BigQuery connection...\")\n",
    "if test_connection():\n",
    "    client = MIMICClient()  # Now works from any directory!\n",
    "    print(\"✅ Ready to explore MIMIC-IV data!\")\n",
    "else:\n",
    "    print(\"❌ Connection failed. Check your setup.\")"
   ]
  },
  {
   "cell_type": "code",
   "execution_count": 2,
   "id": "c67a1e95",
   "metadata": {},
   "outputs": [
    {
     "name": "stdout",
     "output_type": "stream",
     "text": [
      "\n",
      "📊 MIMIC-IV Dataset Overview:\n",
      "✅ Query executed: 1 rows returned\n",
      "✅ Query executed: 1 rows returned\n",
      "✅ Query executed: 1 rows returned\n",
      "✅ Query executed: 1 rows returned\n",
      "    table_name row_count      status\n",
      "      patients   364,627 ✅ Available\n",
      "    admissions   546,028 ✅ Available\n",
      " diagnoses_icd 6,364,488 ✅ Available\n",
      "procedures_icd   859,655 ✅ Available\n"
     ]
    }
   ],
   "source": [
    "# Cell 2: Explore Dataset Overview\n",
    "print(\"\\n📊 MIMIC-IV Dataset Overview:\")\n",
    "overview = client.explore_dataset()\n",
    "print(overview.to_string(index=False))\n",
    "\n"
   ]
  },
  {
   "cell_type": "code",
   "execution_count": 3,
   "id": "366dcac2",
   "metadata": {},
   "outputs": [
    {
     "name": "stdout",
     "output_type": "stream",
     "text": [
      "\n",
      "👥 PATIENTS Sample:\n",
      "✅ Query executed: 5 rows returned\n",
      " subject_id gender  anchor_age\n",
      "   10078138      F          18\n",
      "   10180372      M          18\n",
      "   10686175      M          18\n",
      "   10851602      F          18\n",
      "   10902424      F          18\n",
      "\n",
      "🏥 DIAGNOSES Sample:\n",
      "✅ Query executed: 5 rows returned\n",
      " subject_id icd_code  icd_version\n",
      "   10000935    78052            9\n",
      "   10000980    44021            9\n",
      "   10000980    27800            9\n",
      "   10000980    V8522            9\n",
      "   10000980    72992            9\n"
     ]
    }
   ],
   "source": [
    "# Cell 3: Sample Data from Key Tables\n",
    "print(\"\\n👥 PATIENTS Sample:\")\n",
    "patients_sample = client.get_table_sample('patients', limit=5)\n",
    "print(patients_sample[['subject_id', 'gender', 'anchor_age']].to_string(index=False))\n",
    "\n",
    "print(\"\\n🏥 DIAGNOSES Sample:\")\n",
    "diagnoses_sample = client.get_table_sample('diagnoses_icd', limit=5)\n",
    "print(diagnoses_sample[['subject_id', 'icd_code', 'icd_version']].to_string(index=False))\n",
    "\n"
   ]
  },
  {
   "cell_type": "code",
   "execution_count": 4,
   "id": "090afdf1",
   "metadata": {},
   "outputs": [
    {
     "name": "stdout",
     "output_type": "stream",
     "text": [
      "✅ Query executed: 20 rows returned\n",
      "\n",
      "🔬 Oncology ICD Codes Found:\n",
      "icd_code  frequency      malignancy_type\n",
      "   C9000       1541     Multiple Myeloma\n",
      "   C9110        976             Leukemia\n",
      "   C8339        842 Non-Hodgkin Lymphoma\n",
      "   C9200        803             Leukemia\n",
      "   C8338        680 Non-Hodgkin Lymphoma\n",
      "   C9201        429             Leukemia\n",
      "   C8330        340 Non-Hodgkin Lymphoma\n",
      "   C9202        288             Leukemia\n",
      "   C9002        246     Multiple Myeloma\n",
      "   C9100        244             Leukemia\n",
      "   C9210        219             Leukemia\n",
      "   C8333        162 Non-Hodgkin Lymphoma\n",
      "   C8318        147 Non-Hodgkin Lymphoma\n",
      "   C8331        144 Non-Hodgkin Lymphoma\n",
      "   C8190        129     Hodgkin Lymphoma\n",
      "   C9001        112     Multiple Myeloma\n",
      "   C9101        112             Leukemia\n",
      "   C8332        104 Non-Hodgkin Lymphoma\n",
      "   C8290        101 Non-Hodgkin Lymphoma\n",
      "   C9111         98             Leukemia\n",
      "\n",
      "✅ Data exploration complete!\n",
      "Found 7,717 oncology diagnoses in MIMIC-IV\n"
     ]
    }
   ],
   "source": [
    "# Cell 4: Look for Oncology Cases\n",
    "oncology_preview = client.query(\"\"\"\n",
    "SELECT \n",
    "    icd_code,\n",
    "    COUNT(*) as frequency,\n",
    "    CASE \n",
    "        WHEN icd_code LIKE 'C81%' THEN 'Hodgkin Lymphoma'\n",
    "        WHEN icd_code LIKE 'C82%' OR icd_code LIKE 'C83%' THEN 'Non-Hodgkin Lymphoma'\n",
    "        WHEN icd_code LIKE 'C90%' THEN 'Multiple Myeloma'\n",
    "        WHEN icd_code LIKE 'C91%' OR icd_code LIKE 'C92%' THEN 'Leukemia'\n",
    "        ELSE 'Other'\n",
    "    END as malignancy_type\n",
    "FROM `physionet-data.mimiciv_3_1_hosp.diagnoses_icd`\n",
    "WHERE icd_version = 10 \n",
    "    AND (icd_code LIKE 'C81%' OR icd_code LIKE 'C82%' OR \n",
    "         icd_code LIKE 'C83%' OR icd_code LIKE 'C90%' OR\n",
    "         icd_code LIKE 'C91%' OR icd_code LIKE 'C92%')\n",
    "GROUP BY icd_code, malignancy_type\n",
    "ORDER BY frequency DESC\n",
    "LIMIT 20\n",
    "\"\"\")\n",
    "\n",
    "print(f\"\\n🔬 Oncology ICD Codes Found:\")\n",
    "print(oncology_preview.to_string(index=False))\n",
    "\n",
    "print(f\"\\n✅ Data exploration complete!\")\n",
    "print(f\"Found {oncology_preview['frequency'].sum():,} oncology diagnoses in MIMIC-IV\")"
   ]
  },
  {
   "cell_type": "code",
   "execution_count": null,
   "id": "fa5672be-4895-447a-a94c-59fd4945cd83",
   "metadata": {},
   "outputs": [],
   "source": []
  }
 ],
 "metadata": {
  "kernelspec": {
   "display_name": "Python (mirza)",
   "language": "python",
   "name": "mirza"
  },
  "language_info": {
   "codemirror_mode": {
    "name": "ipython",
    "version": 3
   },
   "file_extension": ".py",
   "mimetype": "text/x-python",
   "name": "python",
   "nbconvert_exporter": "python",
   "pygments_lexer": "ipython3",
   "version": "3.11.8"
  }
 },
 "nbformat": 4,
 "nbformat_minor": 5
}
